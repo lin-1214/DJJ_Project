{
 "cells": [
  {
   "cell_type": "code",
   "execution_count": 28,
   "metadata": {},
   "outputs": [
    {
     "name": "stdout",
     "output_type": "stream",
     "text": [
      "RMSE for July : 1.2398588629356155\n"
     ]
    }
   ],
   "source": [
    "import pandas as pd\n",
    "import numpy as np\n",
    "import csv\n",
    "\n",
    "\n",
    "dataset = []\n",
    "pred_set = []\n",
    "\n",
    "with open('./dataset.csv', newline='') as csvfile:\n",
    "  rows = csv.reader(csvfile)\n",
    "  for row in rows:\n",
    "    dataset.append(float(row[1]))\n",
    "    \n",
    "for i in range(1,len(dataset)) :\n",
    "    pred_set.append(dataset[i])\n",
    "\n",
    "pred_set.append(0)\n",
    "\n",
    "dataset=np.array(dataset)\n",
    "pred_set=np.array(pred_set)\n",
    "    \n",
    "err = np.subtract(dataset, pred_set)\n",
    "err = np.delete(err, len(err)-1)\n",
    "RMSE = np.sqrt(np.mean(np.square(err)))\n",
    "    \n",
    "print(f\"RMSE for July : {RMSE}\")"
   ]
  },
  {
   "cell_type": "code",
   "execution_count": null,
   "metadata": {},
   "outputs": [],
   "source": []
  },
  {
   "cell_type": "code",
   "execution_count": null,
   "metadata": {},
   "outputs": [],
   "source": []
  },
  {
   "cell_type": "code",
   "execution_count": null,
   "metadata": {},
   "outputs": [],
   "source": []
  }
 ],
 "metadata": {
  "kernelspec": {
   "display_name": "Python 3",
   "language": "python",
   "name": "python3"
  },
  "language_info": {
   "codemirror_mode": {
    "name": "ipython",
    "version": 3
   },
   "file_extension": ".py",
   "mimetype": "text/x-python",
   "name": "python",
   "nbconvert_exporter": "python",
   "pygments_lexer": "ipython3",
   "version": "3.8.5"
  }
 },
 "nbformat": 4,
 "nbformat_minor": 4
}
